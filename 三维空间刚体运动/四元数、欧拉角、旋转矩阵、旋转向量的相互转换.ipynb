{
 "cells": [
  {
   "cell_type": "markdown",
   "source": [],
   "metadata": {
    "collapsed": false
   }
  },
  {
   "cell_type": "markdown",
   "source": [
    "  1.旋转向量转旋转矩阵"
   ],
   "metadata": {
    "collapsed": false
   }
  },
  {
   "cell_type": "code",
   "execution_count": 1,
   "outputs": [
    {
     "name": "stdout",
     "output_type": "stream",
     "text": [
      "[[ 0.95604131 -0.14593404  0.2543389 ]\n",
      " [ 0.19907538  0.95986385 -0.19756111]\n",
      " [-0.21529982  0.23950919  0.94672136]]\n"
     ]
    }
   ],
   "source": [
    "import cv2\n",
    "import numpy as np\n",
    "\n",
    "def rotvector2rot(rotvect):\n",
    "    Rm = cv2.Rodrigues(rotvect)[0]\n",
    "    return Rm\n",
    "\n",
    "retvector = np.array([0.223680285784755,\t0.240347886848190,\t0.176566110650535])\n",
    "print(rotvector2rot(retvector))"
   ],
   "metadata": {
    "collapsed": false
   }
  },
  {
   "cell_type": "code",
   "execution_count": 12,
   "outputs": [
    {
     "name": "stdout",
     "output_type": "stream",
     "text": [
      "[0.22368029]\n",
      "[[ 0.95604131]\n",
      " [ 0.19907538]\n",
      " [-0.21529982]]\n"
     ]
    },
    {
     "data": {
      "text/plain": "array([[1],\n       [0],\n       [0]])"
     },
     "execution_count": 12,
     "metadata": {},
     "output_type": "execute_result"
    }
   ],
   "source": [
    "point = np.array([1, 0, 0])\n",
    "print(np.dot(retvector,point.reshape(3, 1)))\n",
    "print(np.dot(rotvector2rot(retvector),point.reshape(3, 1)))\n",
    "point.reshape(3, 1)"
   ],
   "metadata": {
    "collapsed": false
   }
  },
  {
   "cell_type": "markdown",
   "source": [
    "2.四元数转欧拉角"
   ],
   "metadata": {
    "collapsed": false
   }
  },
  {
   "cell_type": "code",
   "execution_count": 19,
   "outputs": [
    {
     "name": "stdout",
     "output_type": "stream",
     "text": [
      "[90.  0.  0.]\n"
     ]
    },
    {
     "data": {
      "text/plain": "array([[ 1.,  0.,  0.],\n       [ 0.,  0., -1.],\n       [ 0.,  1.,  0.]])"
     },
     "execution_count": 19,
     "metadata": {},
     "output_type": "execute_result"
    }
   ],
   "source": [
    "from scipy.spatial.transform import Rotation as R\n",
    "\n",
    "def quaternion2euler(quaternion):\n",
    "    # R表示旋转矩阵类，from_quat是该类的一个静态方法，quaternion是要转换的四元数。\n",
    "    r = R.from_quat(quaternion)\n",
    "    # 'xyz'表示欧拉角的旋转顺序，degrees=True表示输出的欧拉角是以角度为单位而不是弧度。\n",
    "    euler = r.as_euler('xyz', degrees=True)\n",
    "    return euler\n",
    "q = np.array([0.707, 0.0, 0.0, 0.707])\n",
    "print(quaternion2euler(q))\n",
    "# 将四元数转换为旋转矩阵\n",
    "r = R.from_quat(q)\n",
    "r.as_matrix()"
   ],
   "metadata": {
    "collapsed": false
   }
  },
  {
   "cell_type": "markdown",
   "source": [
    "3.欧拉角转四元数"
   ],
   "metadata": {
    "collapsed": false
   }
  },
  {
   "cell_type": "code",
   "execution_count": 20,
   "outputs": [
    {
     "name": "stdout",
     "output_type": "stream",
     "text": [
      "[0.70710678 0.         0.         0.70710678]\n"
     ]
    }
   ],
   "source": [
    "from scipy.spatial.transform import Rotation as R\n",
    "\n",
    "def euler2quaternion(euler):\n",
    "    r = R.from_euler('xyz', euler, degrees=True)\n",
    "    quaternion = r.as_quat()\n",
    "    return quaternion\n",
    "\n",
    "\n",
    "euler = [90, 0, 0]\n",
    "print(euler2quaternion(euler))\n"
   ],
   "metadata": {
    "collapsed": false
   }
  },
  {
   "cell_type": "markdown",
   "source": [
    "  4.欧拉角转旋转矩阵"
   ],
   "metadata": {
    "collapsed": false
   }
  },
  {
   "cell_type": "code",
   "execution_count": 22,
   "outputs": [
    {
     "name": "stdout",
     "output_type": "stream",
     "text": [
      "[[-0.9754533   0.21902821 -0.02274859]\n",
      " [-0.18783626 -0.88152702 -0.43316008]\n",
      " [-0.11492777 -0.41825442  0.90102988]]\n"
     ]
    }
   ],
   "source": [
    "from scipy.spatial.transform import Rotation as R\n",
    "\n",
    "def euler2rot(euler):\n",
    "    r = R.from_euler('xyz', euler, degrees=True)\n",
    "    rotation_matrix = r.as_matrix()\n",
    "    return rotation_matrix\n",
    "\n",
    "euler = [-24.90053735,    6.599459,   -169.1003646]\n",
    "print(euler2rot(euler))"
   ],
   "metadata": {
    "collapsed": false
   }
  },
  {
   "cell_type": "markdown",
   "source": [
    "5.旋转矩阵转欧拉角"
   ],
   "metadata": {
    "collapsed": false
   }
  },
  {
   "cell_type": "code",
   "execution_count": 23,
   "outputs": [
    {
     "name": "stdout",
     "output_type": "stream",
     "text": [
      "[  1.34368509   0.61416806 -90.58302646]\n"
     ]
    }
   ],
   "source": [
    "import numpy as np\n",
    "import math\n",
    "\n",
    "\n",
    "def isRotationMatrix(R):\n",
    "    Rt = np.transpose(R)\n",
    "    shouldBeIdentity = np.dot(Rt, R)\n",
    "    I = np.identity(3, dtype=R.dtype)\n",
    "    n = np.linalg.norm(I - shouldBeIdentity)\n",
    "    return n < 1e-6\n",
    "\n",
    "def rot2euler(R):\n",
    "    assert (isRotationMatrix(R))\n",
    "\n",
    "    sy = math.sqrt(R[0, 0] * R[0, 0] + R[1, 0] * R[1, 0])\n",
    "\n",
    "    singular = sy < 1e-6\n",
    "\n",
    "    if not singular:\n",
    "        x = math.atan2(R[2, 1], R[2, 2]) * 180 / np.pi\n",
    "        y = math.atan2(-R[2, 0], sy) * 180 / np.pi\n",
    "        z = math.atan2(R[1, 0], R[0, 0]) * 180 / np.pi\n",
    "    else:\n",
    "        x = math.atan2(-R[1, 2], R[1, 1]) * 180 / np.pi\n",
    "        y = math.atan2(-R[2, 0], sy) * 180 / np.pi\n",
    "        z = 0\n",
    "    return np.array([x, y, z])\n",
    "\n",
    "rot = np.array([[-1.01749712e-02,  9.99670705e-01, -2.35574076e-02],\n",
    " [-9.99890780e-01, -1.04241019e-02, -1.04769347e-02],\n",
    " [-1.07190495e-02,  2.34482322e-02,  9.99667586e-01]])\n",
    "\n",
    "print(rot2euler(rot))\n"
   ],
   "metadata": {
    "collapsed": false
   }
  }
 ],
 "metadata": {
  "kernelspec": {
   "display_name": "Python 3",
   "language": "python",
   "name": "python3"
  },
  "language_info": {
   "codemirror_mode": {
    "name": "ipython",
    "version": 2
   },
   "file_extension": ".py",
   "mimetype": "text/x-python",
   "name": "python",
   "nbconvert_exporter": "python",
   "pygments_lexer": "ipython2",
   "version": "2.7.6"
  }
 },
 "nbformat": 4,
 "nbformat_minor": 0
}
